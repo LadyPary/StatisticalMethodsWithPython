{
  "nbformat": 4,
  "nbformat_minor": 0,
  "metadata": {
    "colab": {
      "name": "Statistical Methods With Python.ipynb",
      "provenance": [],
      "collapsed_sections": [
        "gBvnvF5_rUcr",
        "yU7gCPinnkHi",
        "L-p9fDNVWeBy",
        "sSrk8ycC9YlG",
        "oR40Gaf49dYx",
        "-uz-Z4wn9gtI",
        "okYxpJCz9h6o",
        "lAZzrgk3ALmg",
        "SKZJBbNiWwL8",
        "p1ZLyeT46zJg",
        "-w8asyVD86zT",
        "fcYY_fWl6Sy4",
        "x1bFp2Ss-jf6",
        "Yt9xzsez-pdw",
        "LpXBsTM4-uZF",
        "gc604e2QXBVJ",
        "MdpWoUzdXLUJ",
        "yEmqSP9_XYxN",
        "MLNwn4KwZwIL",
        "H09x-hFBa2pS",
        "BXKR4HDhbBaL",
        "HH1RgIgbbnbB",
        "rAZNRMgGc6Bx",
        "NSsGVqMgXZBi",
        "nL0yPk1BeHCw",
        "J7Opc8DVefFR",
        "T-e542nyewV2",
        "BWR73rq0hSNN",
        "QfDxwELmePQU",
        "vxp57nlOkX7m",
        "-rw2LTdclG2D",
        "eusFYptQm0Rl",
        "m_hzgoBonInj",
        "dgzGE1L2eWu7",
        "nJ5dbI_xXZyF",
        "QJlj47qlp1ee",
        "hj78TzPTqauI",
        "-e8oP8wXqseo",
        "NtRSsNIwqvrG",
        "i-4d4nb5rxiz",
        "SxN6Faa-r5_A",
        "tEgzlDa8XaE0",
        "NASWNmays8G0",
        "xR2HAQlmtJzj",
        "jO5YyYVbter5",
        "kWTpSH4btlwl",
        "Rw4qiQevttYR"
      ],
      "authorship_tag": "ABX9TyOdhOGiFuFjtL6GoASRb9yA",
      "include_colab_link": true
    },
    "kernelspec": {
      "name": "python3",
      "display_name": "Python 3"
    },
    "language_info": {
      "name": "python"
    }
  },
  "cells": [
    {
      "cell_type": "markdown",
      "metadata": {
        "id": "view-in-github",
        "colab_type": "text"
      },
      "source": [
        "<a href=\"https://colab.research.google.com/github/LadyPary/StatisticalMethodsWithPython/blob/main/Statistical_Methods_With_Python.ipynb\" target=\"_parent\"><img src=\"https://colab.research.google.com/assets/colab-badge.svg\" alt=\"Open In Colab\"/></a>"
      ]
    },
    {
      "cell_type": "markdown",
      "metadata": {
        "id": "gBvnvF5_rUcr"
      },
      "source": [
        "_______\n",
        "# <center>**Statistical Methods With Python**\n",
        "_______"
      ]
    },
    {
      "cell_type": "markdown",
      "metadata": {
        "id": "dD5b6AqVsQDA"
      },
      "source": [
        "This notebook is based on the material taught in the **Statistical Methods Course**, winter 2021, by **Prof. Misaii**, at the Department of Computer Science, University of Tehran.\n",
        "\n",
        "Examples and formulas are from the **Basic Concepts of Probability and Statistics (second edition) Book**, by **Dr. Parsian**.\n",
        "\n",
        "To learn more about the statistics behind the codes please check out the links from [PennState STAT](https://online.stat.psu.edu/) courses included in each chapter.\n",
        "\n",
        "---\n",
        "\n",
        "All the codes are written by **Parisa Rabbany**.\n",
        "\n",
        "If you find any errors or have any suggestions feel free to contact me at: parisa.rabbany.pr@gmail.com\n",
        "______"
      ]
    },
    {
      "cell_type": "markdown",
      "metadata": {
        "id": "yU7gCPinnkHi"
      },
      "source": [
        "## **0) Loading Data**"
      ]
    },
    {
      "cell_type": "markdown",
      "metadata": {
        "id": "WcYI9qyVunoE"
      },
      "source": [
        "I use the \"**GitHub**\" method to load my data. You can search and try other methods as well. \n",
        "\n",
        "1. Upload the CSV file to GitHub.\n",
        "2. Click on the CSV file then click RAW.\n",
        "3. Copy the address and paste it in: \n",
        "```\n",
        "# pd.read_csv('address')\n",
        "```"
      ]
    },
    {
      "cell_type": "code",
      "metadata": {
        "id": "ZVjlvzEAu2PZ"
      },
      "source": [
        "import pandas as pd\n",
        "\n",
        "# loading data\n",
        "df = pd.read_csv('https://raw.githubusercontent.com/LadyPary/HousePricingPrediction/main/Data/train.csv')\n"
      ],
      "execution_count": null,
      "outputs": []
    },
    {
      "cell_type": "markdown",
      "metadata": {
        "id": "L-p9fDNVWeBy"
      },
      "source": [
        "## **1) Probability**\n"
      ]
    },
    {
      "cell_type": "markdown",
      "metadata": {
        "id": "BWhWfHgawU88"
      },
      "source": [
        "[Introduction to Probability Theory](https://online.stat.psu.edu/stat414/)"
      ]
    },
    {
      "cell_type": "markdown",
      "metadata": {
        "id": "sSrk8ycC9YlG"
      },
      "source": [
        "#### **1.1. Aggregation Functions**"
      ]
    },
    {
      "cell_type": "markdown",
      "metadata": {
        "id": "oR40Gaf49dYx"
      },
      "source": [
        "##### **1.1.1. Order Statistics**"
      ]
    },
    {
      "cell_type": "code",
      "metadata": {
        "colab": {
          "base_uri": "https://localhost:8080/"
        },
        "id": "5Pb6Gui19kkg",
        "outputId": "74ca9cf2-9317-4ead-fcd1-33ce0a9091ef"
      },
      "source": [
        "import numpy as np\n",
        "\n",
        "#Creates an array of ints between low and high of size.\n",
        "big_array = np.random.randint(low=1, high=10000, size=500, dtype=int) \n",
        "\n",
        "np.sum(big_array)     #Compute sum of elements\n",
        "np.prod(big_array)    #Compute product of elements\n",
        "np.amin(big_array)    #Find minimum value\n",
        "np.amax(big_array)    #Find maximum value\n",
        "np.ptp(big_array)     #Compute range\n",
        "np.argmin(big_array)  #Find index of minimum value\n",
        "np.argmax(big_array)  #Find index of maximum value"
      ],
      "execution_count": null,
      "outputs": [
        {
          "output_type": "execute_result",
          "data": {
            "text/plain": [
              "42"
            ]
          },
          "metadata": {
            "tags": []
          },
          "execution_count": 9
        }
      ]
    },
    {
      "cell_type": "markdown",
      "metadata": {
        "id": "-uz-Z4wn9gtI"
      },
      "source": [
        "##### **1.1.2. Averages and Variances:**"
      ]
    },
    {
      "cell_type": "code",
      "metadata": {
        "colab": {
          "base_uri": "https://localhost:8080/"
        },
        "id": "nU018UdR95zm",
        "outputId": "ab2bc7cc-069b-4f65-98ec-53f9fe8abec1"
      },
      "source": [
        "import numpy as np\n",
        "\n",
        "#Creates an array of ints between low and high of size.\n",
        "big_array = np.random.randint(low=1, high=10000, size=500, dtype=int)\n",
        "\n",
        "np.mean(big_array)    #Compute mean of elements\n",
        "np.average(big_array) #Compute average of elements\n",
        "np.median(big_array)  #Compute median of elements\n",
        "np.var(big_array)     #Compute variance\n",
        "np.std(big_array)     #Compute standard deviation"
      ],
      "execution_count": null,
      "outputs": [
        {
          "output_type": "execute_result",
          "data": {
            "text/plain": [
              "2880.8050279177173"
            ]
          },
          "metadata": {
            "tags": []
          },
          "execution_count": 10
        }
      ]
    },
    {
      "cell_type": "markdown",
      "metadata": {
        "id": "okYxpJCz9h6o"
      },
      "source": [
        "##### **1.1.3. Correlating**"
      ]
    },
    {
      "cell_type": "code",
      "metadata": {
        "colab": {
          "base_uri": "https://localhost:8080/"
        },
        "id": "Ed9KqnZU-D9N",
        "outputId": "79edce82-845e-4a41-a2c7-5da75fc171b7"
      },
      "source": [
        "import numpy as np\n",
        "\n",
        "#Creates an array of ints between low and high of size.\n",
        "big_array = np.random.randint(low=1, high=10000, size=500, dtype=int) \n",
        "big_array2 = np.random.randint(low=1, high=10000, size=500, dtype=int)\n",
        " \n",
        "#Return Pearson product-moment correlation coefficients\n",
        "np.corrcoef(big_array)  \n",
        "#Cross-correlation of two 1-dimensional sequences  \n",
        "np.correlate(big_array, big_array2)   \n",
        "#Estimate a covariance matrix, given data and weights\n",
        "np.cov(big_array)    "
      ],
      "execution_count": null,
      "outputs": [
        {
          "output_type": "execute_result",
          "data": {
            "text/plain": [
              "array(8393279.4318998)"
            ]
          },
          "metadata": {
            "tags": []
          },
          "execution_count": 11
        }
      ]
    },
    {
      "cell_type": "markdown",
      "metadata": {
        "id": "lAZzrgk3ALmg"
      },
      "source": [
        "#### **1.2. Probability**"
      ]
    },
    {
      "cell_type": "code",
      "metadata": {
        "colab": {
          "base_uri": "https://localhost:8080/"
        },
        "id": "5pwrwkdE7jbF",
        "outputId": "e3d9b9db-bd2b-4c97-9a21-d470c6068ab0"
      },
      "source": [
        "import scipy.stats as stats\n",
        "\n",
        "t = 12\n",
        "df = 2\n",
        "\n",
        "#P(T>t) \n",
        "p = 1 - stats.t.pdf(t, df)\n",
        "\n",
        "#P(T<t)\n",
        "1 - stats.t.pdf(t, df)\n",
        "\n",
        "#P(|T|>|t|)\n",
        "1 - 2*stats.t.pdf(abs(t), df)"
      ],
      "execution_count": null,
      "outputs": [
        {
          "output_type": "execute_result",
          "data": {
            "text/plain": [
              "0.9988662933032845"
            ]
          },
          "metadata": {
            "tags": []
          },
          "execution_count": 12
        }
      ]
    },
    {
      "cell_type": "markdown",
      "metadata": {
        "id": "SKZJBbNiWwL8"
      },
      "source": [
        "______\n",
        "## **2) Sampling Distribution**"
      ]
    },
    {
      "cell_type": "markdown",
      "metadata": {
        "id": "nEfTfPhmwY5U"
      },
      "source": [
        "[Sampling Distributions](https://online.stat.psu.edu/stat500/lesson/4)"
      ]
    },
    {
      "cell_type": "markdown",
      "metadata": {
        "id": "p1ZLyeT46zJg"
      },
      "source": [
        "####**2.1. Statistical Distributions**\n"
      ]
    },
    {
      "cell_type": "markdown",
      "metadata": {
        "id": "WQZAEFd1653u"
      },
      "source": [
        "[Discrete Statistical Distributions](https://docs.scipy.org/doc/scipy/reference/tutorial/stats/discrete.html)\n",
        "\n",
        "[Continuous Statistical Distributions\n",
        "](https://docs.scipy.org/doc/scipy/reference/tutorial/stats/continuous.html)"
      ]
    },
    {
      "cell_type": "markdown",
      "metadata": {
        "id": "-w8asyVD86zT"
      },
      "source": [
        "#### **2.2. Random Sampling with Different Distributions**"
      ]
    },
    {
      "cell_type": "code",
      "metadata": {
        "colab": {
          "base_uri": "https://localhost:8080/"
        },
        "id": "KFSujISq9C50",
        "outputId": "28daffbe-0f04-444d-8cb3-e9cfdb5f860b"
      },
      "source": [
        "# Uncomment the distribution you want to use and provide the parameters \n",
        "'''\n",
        "#Draw samples from a Beta distribution.\n",
        "np.random.beta(a, b[, size]) \n",
        "\n",
        "#Draw samples from a binomial distribution.\n",
        "np.random.binomial(n, p[, size])\n",
        "#Draw samples from a negative binomial distribution.\n",
        "np.random.negative_binomial(n, p[, size])\n",
        "\n",
        "#Draw samples from a chi-square distribution.\n",
        "np.random.chisquare(df[, size])\n",
        " \n",
        "#Draw samples from the Dirichlet distribution.\n",
        "np.random.dirichlet(alpha[, size])\n",
        "\n",
        "#Draw samples from an exponential distribution.\n",
        "np.random.exponential([scale, size])\n",
        "\n",
        "#Draw samples from an F distribution.\n",
        "np.random.f(dfnum, dfden[, size])\n",
        "\n",
        "#Draw samples from a Gamma distribution.\n",
        "np.random.gamma(shape[, scale, size])\n",
        "#Draw samples from a standard Gamma distribution.\n",
        "np.random.standard_gamma(shape[, size, dtype, out])\n",
        "\n",
        "#Draw samples from the geometric distribution.\n",
        "np.random.geometric(p[, size])\n",
        "#Draw samples from a Hypergeometric distribution.\n",
        "np.random.hypergeometric(ngood, nbad, nsample[, size])\n",
        "\n",
        "#Draw samples from a Gumbel distribution.\n",
        "np.random.gumbel([loc, scale, size])\n",
        "\n",
        "#Draw samples from a logistic distribution.\n",
        "np.random.logistic([loc, scale, size])\n",
        "\n",
        "#Draw samples from a normal (Gaussian) distribution.\n",
        "np.random.normal([loc, scale, size])\n",
        "#Draw samples from standard Normal distribution (mean=0, stdev=1).\n",
        "np.random.standard_normal([size, dtype, out])\n",
        "\n",
        "#Draw samples from a Poisson distribution.\n",
        "np.random.poisson([lam, size])\n",
        "\n",
        "#Draw samples from a standard Student’s t distribution with df degrees of freedom.\n",
        "np.random.standard_t(df[, size])\n",
        "\n",
        "#Draw samples from a uniform distribution.\n",
        "np.random.uniform([low, high, size])\n",
        "'''"
      ],
      "execution_count": null,
      "outputs": [
        {
          "output_type": "execute_result",
          "data": {
            "application/vnd.google.colaboratory.intrinsic+json": {
              "type": "string"
            },
            "text/plain": [
              "'\\n#Draw samples from a Beta distribution.\\nnp.random.beta(a, b[, size]) \\n\\n#Draw samples from a binomial distribution.\\nnp.random.binomial(n, p[, size])\\n#Draw samples from a negative binomial distribution.\\nnp.random.negative_binomial(n, p[, size])\\n\\n#Draw samples from a chi-square distribution.\\nnp.random.chisquare(df[, size])\\n \\n#Draw samples from the Dirichlet distribution.\\nnp.random.dirichlet(alpha[, size])\\n\\n#Draw samples from an exponential distribution.\\nnp.random.exponential([scale, size])\\n\\n#Draw samples from an F distribution.\\nnp.random.f(dfnum, dfden[, size])\\n\\n#Draw samples from a Gamma distribution.\\nnp.random.gamma(shape[, scale, size])\\n#Draw samples from a standard Gamma distribution.\\nnp.random.standard_gamma(shape[, size, dtype, out])\\n\\n#Draw samples from the geometric distribution.\\nnp.random.geometric(p[, size])\\n#Draw samples from a Hypergeometric distribution.\\nnp.random.hypergeometric(ngood, nbad, nsample[, size])\\n\\n#Draw samples from a Gumbel distribution.\\nnp.random.gumbel([loc, scale, size])\\n\\n#Draw samples from a logistic distribution.\\nnp.random.logistic([loc, scale, size])\\n\\n#Draw samples from a normal (Gaussian) distribution.\\nnp.random.normal([loc, scale, size])\\n#Draw samples from standard Normal distribution (mean=0, stdev=1).\\nnp.random.standard_normal([size, dtype, out])\\n\\n#Draw samples from a Poisson distribution.\\nnp.random.poisson([lam, size])\\n\\n#Draw samples from a standard Student’s t distribution with df degrees of freedom.\\nnp.random.standard_t(df[, size])\\n\\n#Draw samples from a uniform distribution.\\nnp.random.uniform([low, high, size])\\n'"
            ]
          },
          "metadata": {
            "tags": []
          },
          "execution_count": 13
        }
      ]
    },
    {
      "cell_type": "code",
      "metadata": {
        "colab": {
          "base_uri": "https://localhost:8080/"
        },
        "id": "01tchTjN-WZr",
        "outputId": "3cabd64b-5a66-4b69-a438-660f27a986a9"
      },
      "source": [
        "import scipy.stats as stats\n",
        "\n",
        "n = 4\n",
        "m = 3\n",
        "p = 0.3\n",
        "alpha = 0.05\n",
        "\n",
        "#F(n,m,p)\n",
        "stats.f.ppf(alpha, n, m)\n",
        "\n",
        "#Chi Square(n, p)\n",
        "stats.chi2.ppf(p, n)\n",
        "\n",
        "#t(n, p)\n",
        "stats.t.ppf(p, n)\n",
        "\n",
        "\n",
        "#Z(p)\n",
        "stats.norm(p)\n",
        "\n",
        "myList = [1, 2, 3, 4, 5, 6, 7]\n",
        "#Z-score\n",
        "# Compute the z score of each value in the sample, relative to the sample mean and standard deviation.\n",
        "stats.zscore(myList)"
      ],
      "execution_count": null,
      "outputs": [
        {
          "output_type": "execute_result",
          "data": {
            "text/plain": [
              "array([-1.5, -1. , -0.5,  0. ,  0.5,  1. ,  1.5])"
            ]
          },
          "metadata": {
            "tags": []
          },
          "execution_count": 14
        }
      ]
    },
    {
      "cell_type": "markdown",
      "metadata": {
        "id": "fcYY_fWl6Sy4"
      },
      "source": [
        "#### **2.3. Visualization of Central Limit Theorem Using Geometric Distribution**"
      ]
    },
    {
      "cell_type": "code",
      "metadata": {
        "colab": {
          "base_uri": "https://localhost:8080/"
        },
        "id": "qY6IgVVR6R3F",
        "outputId": "485d22af-253a-4c02-ffc9-8f784685eb44"
      },
      "source": [
        "import matplotlib.pyplot as plt\n",
        "import numpy as np\n",
        "\n",
        "xbar = []\n",
        "# Taking random samples 1000 times\n",
        "for i in range(1000): \n",
        "    # Geometric distribution of size 10000 where the chance to        succeed is 0.25\n",
        "    x = np.random.geometric(p=0.25, size=10000)\n",
        "    # Adding the mean values\n",
        "    xbar.append(np.mean(x)) \n",
        "# Drawing the histogram\n",
        "plt.hist(xbar) \n",
        "# Setting the plot's name\n",
        "plt.gca().set(title='Central Limit Theorem (CLT) with Geometric distribution Histogram', ylabel='Frequency')  \n",
        "# Display the plot\n",
        "plt.show()   "
      ],
      "execution_count": null,
      "outputs": [
        {
          "output_type": "display_data",
          "data": {
            "image/png": "[encoded data removed]",
            "text/plain": [
              "<Figure size 432x288 with 1 Axes>"
            ]
          },
          "metadata": {
            "tags": [],
            "needs_background": "light"
          }
        }
      ]
    },
    {
      "cell_type": "markdown",
      "metadata": {
        "id": "x1bFp2Ss-jf6"
      },
      "source": [
        "####**2.4. Visualisation**"
      ]
    },
    {
      "cell_type": "markdown",
      "metadata": {
        "id": "Yt9xzsez-pdw"
      },
      "source": [
        "##### **2.4.1. Histogram**"
      ]
    },
    {
      "cell_type": "code",
      "metadata": {
        "colab": {
          "base_uri": "https://localhost:8080/"
        },
        "id": "VJs3751z-nvs",
        "outputId": "e92bd87c-0385-4e04-d77e-08bdcac62963"
      },
      "source": [
        "import matplotlib.pyplot as plt\n",
        "import numpy as np\n",
        "\n",
        "#Creates an array of ints between low and high of size.\n",
        "big_array = np.random.randint(low=1, high=100, size=50, dtype=int) \n",
        "\n",
        "plt.hist(big_array)\n",
        "plt.show()"
      ],
      "execution_count": null,
      "outputs": [
        {
          "output_type": "display_data",
          "data": {
            "image/png": "[encoded data removed]",
            "text/plain": [
              "<Figure size 432x288 with 1 Axes>"
            ]
          },
          "metadata": {
            "tags": [],
            "needs_background": "light"
          }
        }
      ]
    },
    {
      "cell_type": "markdown",
      "metadata": {
        "id": "LpXBsTM4-uZF"
      },
      "source": [
        "##### **2.4.2. Pie Chart**"
      ]
    },
    {
      "cell_type": "code",
      "metadata": {
        "colab": {
          "base_uri": "https://localhost:8080/"
        },
        "id": "--rWp3q2_8Zm",
        "outputId": "1a01147a-bc2b-47a9-a87d-b8982d56de4f"
      },
      "source": [
        "import matplotlib.pyplot as plt\n",
        "import numpy as np\n",
        "\n",
        "# Pie chart, where the slices will be ordered and plotted counter-clockwise:\n",
        "labels = 'Frogs', 'Hogs', 'Dogs', 'Logs'\n",
        "sizes = [15, 30, 45, 10]\n",
        "explode = (0, 0.1, 0, 0)  # only \"explode\" the 2nd slice (i.e. 'Hogs')\n",
        "\n",
        "fig1, ax1 = plt.subplots()\n",
        "ax1.pie(sizes, explode=explode, labels=labels, autopct='%1.1f%%',\n",
        "        shadow=True, startangle=90)\n",
        "ax1.axis('equal')  # Equal aspect ratio ensures that pie is drawn as a circle.\n",
        "\n",
        "plt.show()"
      ],
      "execution_count": null,
      "outputs": [
        {
          "output_type": "display_data",
          "data": {
            "image/png": "[encoded data removed]",
            "text/plain": [
              "<Figure size 432x288 with 1 Axes>"
            ]
          },
          "metadata": {
            "tags": []
          }
        }
      ]
    },
    {
      "cell_type": "markdown",
      "metadata": {
        "id": "gc604e2QXBVJ"
      },
      "source": [
        "______\n",
        "## **3) One Sample t-test**"
      ]
    },
    {
      "cell_type": "markdown",
      "metadata": {
        "id": "8bLR3crnyjtx"
      },
      "source": [
        "[Point Estimation](https://online.stat.psu.edu/stat415/lesson/1)"
      ]
    },
    {
      "cell_type": "markdown",
      "metadata": {
        "id": "cD09bCEIB6q1"
      },
      "source": [
        "Calculate the T-test for the mean of ONE group of scores.\n",
        "\n",
        "This is a two-sided test for the null hypothesis that the expected value (mean) of a sample of independent observations a is equal to the given population mean, popmean."
      ]
    },
    {
      "cell_type": "code",
      "metadata": {
        "colab": {
          "base_uri": "https://localhost:8080/"
        },
        "id": "BEN6LctADfnd",
        "outputId": "7301ef88-6aa2-4f6a-842f-2233d96b4598"
      },
      "source": [
        "'''\n",
        " If you get this error: \n",
        " < ttest_1samp() got an unexpected keyword argument 'alternative' >\n",
        " run the below code\n",
        "'''\n",
        "\n",
        "# !pip install scipy==1.6.3\n"
      ],
      "execution_count": null,
      "outputs": [
        {
          "output_type": "execute_result",
          "data": {
            "application/vnd.google.colaboratory.intrinsic+json": {
              "type": "string"
            },
            "text/plain": [
              "\"\\n If you get this error: \\n < ttest_1samp() got an unexpected keyword argument 'alternative' >\\n run the below code\\n\""
            ]
          },
          "metadata": {
            "tags": []
          },
          "execution_count": 18
        }
      ]
    },
    {
      "cell_type": "code",
      "metadata": {
        "colab": {
          "base_uri": "https://localhost:8080/"
        },
        "id": "Pxb6k6C3B6hq",
        "outputId": "4841f0d6-6e19-4e1d-e9dc-873d637df855"
      },
      "source": [
        "import scipy.stats as stats\n",
        "import numpy as np\n",
        "\n",
        "sample = np.random.randint(low=1, high=100, size=50, dtype=int) \n",
        "\n",
        "print(np.mean(sample))\n",
        "\n",
        "'''\n",
        "Defines the alternative hypothesis. The following options are available (default is ‘two-sided’):\n",
        "alternative=‘two-sided’\n",
        "\n",
        "alternative=‘less’: one-sided\n",
        "\n",
        "alternative=‘greater’: one-sided\n",
        "'''\n",
        "\n",
        "statistic, pvalue = stats.ttest_1samp(sample, 50, alternative='two-sided')\n",
        "\n",
        "if pvalue<0.05:\n",
        "  print(\"reject\")\n",
        "else:\n",
        "  print(\"non reject\")\n"
      ],
      "execution_count": null,
      "outputs": [
        {
          "output_type": "stream",
          "text": [
            "46.64\n",
            "non reject\n"
          ],
          "name": "stdout"
        }
      ]
    },
    {
      "cell_type": "markdown",
      "metadata": {
        "id": "MdpWoUzdXLUJ"
      },
      "source": [
        "______\n",
        "## **4) Two sample t-test**"
      ]
    },
    {
      "cell_type": "markdown",
      "metadata": {
        "id": "okJxh9A3y1-i"
      },
      "source": [
        "[Hypothesis Testing for One-Sample Proportion](https://online.stat.psu.edu/stat500/lesson/6a)"
      ]
    },
    {
      "cell_type": "code",
      "metadata": {
        "colab": {
          "base_uri": "https://localhost:8080/"
        },
        "id": "8R8T9tAVENyC",
        "outputId": "7476f2cb-c24e-4518-a51d-52e71158c643"
      },
      "source": [
        "from scipy import stats\n",
        "\n",
        "Before_Drug = [9, 10, 12, 12, 12, 10, 12, 9, 10, 9]\n",
        "After_Drug =  [3,  6,  5,  4,  4,  3,  6, 6,  5, 5]\n",
        "\n",
        "'''\n",
        "equal_var: bool, optional\n",
        "If True (default), perform a standard independent 2 sample test that assumes equal population variances.\n",
        "If False, perform Welch’s t-test, which does not assume equal population variance.\n",
        "--------\n",
        "Defines the alternative hypothesis. The following options are available (default is ‘two-sided’):\n",
        "alternative=‘two-sided’  two sided\n",
        "alternative=‘less’       one sided\n",
        "alternative=‘greater’    one sided\n",
        "'''\n",
        "statistic, pvalue = stats.ttest_ind(Before_Drug, After_Drug, equal_var=True, alternative=\"less\")\n",
        "if pvalue<0.05:\n",
        "  #mean values are not equal.\n",
        "  print(\"reject\")\n",
        "else:\n",
        "  #mean values are equal.\n",
        "  print(\"non reject\")\n",
        "  "
      ],
      "execution_count": null,
      "outputs": [
        {
          "output_type": "stream",
          "text": [
            "non reject\n"
          ],
          "name": "stdout"
        }
      ]
    },
    {
      "cell_type": "markdown",
      "metadata": {
        "id": "yEmqSP9_XYxN"
      },
      "source": [
        "______\n",
        "## **5) ANOVA (Analysis of Variance)**"
      ]
    },
    {
      "cell_type": "markdown",
      "metadata": {
        "id": "_hzsjnGKZgQx"
      },
      "source": [
        "[Introduction to ANOVA](https://online.stat.psu.edu/stat500/lesson/10)"
      ]
    },
    {
      "cell_type": "markdown",
      "metadata": {
        "id": "MLNwn4KwZwIL"
      },
      "source": [
        "### **5.1. Assumptions for One-Way ANOVA Test**\n",
        "\n",
        "1. The responses for each factor level have a normal population distribution.\n",
        "2. These distributions have the same variance.\n",
        "3. The data are independent.\n"
      ]
    },
    {
      "cell_type": "markdown",
      "metadata": {
        "id": "H09x-hFBa2pS"
      },
      "source": [
        "#### 5.1.1. Shapiro-Wilk Normality Test"
      ]
    },
    {
      "cell_type": "code",
      "metadata": {
        "colab": {
          "base_uri": "https://localhost:8080/"
        },
        "id": "tzcDJyi4az57",
        "outputId": "85604656-c562-4348-dce9-5d5c75e754bf"
      },
      "source": [
        "from scipy.stats import shapiro\n",
        "\n",
        "sample1 = [85, 86, 88, 75, 78, 94, 98, 79, 71, 80]\n",
        "sample2 = [91, 92, 93, 90, 97, 94, 82, 88, 95, 96]\n",
        "sample3 = [79, 78, 88, 94, 92, 85, 83, 85, 82, 81]\n",
        "\n",
        "#Perform Shapiro-Wilk Normality Test\n",
        "stat, p_value1 = shapiro(sample1)\n",
        "stat, p_value2 = shapiro(sample2)\n",
        "stat, p_value3 = shapiro(sample3)\n",
        "\n",
        "if p_value1 < 0.05 or p_value2 < 0.05 or p_value3 < 0.05:\n",
        "  #at least one distribution is not normal\n",
        "\tprint(\"reject\")\n",
        "else:\n",
        "  #all distributions are normal\n",
        "\tprint(\"non reject\")"
      ],
      "execution_count": null,
      "outputs": [
        {
          "output_type": "stream",
          "text": [
            "non reject\n"
          ],
          "name": "stdout"
        }
      ]
    },
    {
      "cell_type": "markdown",
      "metadata": {
        "id": "BXKR4HDhbBaL"
      },
      "source": [
        "#### 5.1.2. Levene’s and Bartlett's Test of Equality (Homogeneity) of Variances "
      ]
    },
    {
      "cell_type": "code",
      "metadata": {
        "colab": {
          "base_uri": "https://localhost:8080/"
        },
        "id": "Vf5MmX_nbEeK",
        "outputId": "7d11f7de-2d54-4dde-fda0-ed601e5b30db"
      },
      "source": [
        "from scipy import stats\n",
        "\n",
        "sample1 = [85, 86, 88, 75, 78, 94, 98, 79, 71, 80]\n",
        "sample2 = [91, 92, 93, 90, 97, 94, 82, 88, 95, 96]\n",
        "sample3 = [79, 78, 88, 94, 92, 85, 83, 85, 82, 81]\n",
        "\n",
        "#Perform Levene’s Test of Equality (Homogeneity) of Variances\n",
        "w, p_value = stats.levene(sample1, sample2, sample3)\n",
        "\n",
        "if p_value<0.05:\n",
        "  #variances are not equal\n",
        "  print(\"reject\")\n",
        "else:\n",
        "  #variances are equal\n",
        "  print(\"non reject\")"
      ],
      "execution_count": null,
      "outputs": [
        {
          "output_type": "stream",
          "text": [
            "non reject\n"
          ],
          "name": "stdout"
        }
      ]
    },
    {
      "cell_type": "code",
      "metadata": {
        "colab": {
          "base_uri": "https://localhost:8080/"
        },
        "id": "aZacg-SkbMX2",
        "outputId": "6fb43ba4-3afc-442a-a1a0-ccbb0973841a"
      },
      "source": [
        "from scipy import stats\n",
        "\n",
        "sample1 = [85, 86, 88, 75, 78, 94, 98, 79, 71, 80]\n",
        "sample2 = [91, 92, 93, 90, 97, 94, 82, 88, 95, 96]\n",
        "sample3 = [79, 78, 88, 94, 92, 85, 83, 85, 82, 81]\n",
        "\n",
        "#Perform Bartlett's Test of Equality (Homogeneity) of Variances \n",
        "stat, p_value = stats.bartlett(sample1, sample2, sample3)\n",
        "\n",
        "if p_value<0.05:\n",
        "  #variances are not equal\n",
        "  print(\"reject\")\n",
        "else:\n",
        "  #variances are equal\n",
        "  print(\"non reject\")"
      ],
      "execution_count": null,
      "outputs": [
        {
          "output_type": "stream",
          "text": [
            "non reject\n"
          ],
          "name": "stdout"
        }
      ]
    },
    {
      "cell_type": "markdown",
      "metadata": {
        "id": "HH1RgIgbbnbB"
      },
      "source": [
        "### **5.2. One-way ANOVA**"
      ]
    },
    {
      "cell_type": "markdown",
      "metadata": {
        "id": "A8oahQVdcUIG"
      },
      "source": [
        "**Hypotheses:**\n",
        "\n",
        "$\\displaystyle H_{0} :\\mu _{1} =\\mu _{2} =\\dotsc =\\mu _{t}$\n",
        "\n",
        "$\\displaystyle H_{a} :\\mu _{i} \\neq \\mu _{j} \\ $for some $\\displaystyle i\\neq j$"
      ]
    },
    {
      "cell_type": "code",
      "metadata": {
        "colab": {
          "base_uri": "https://localhost:8080/"
        },
        "id": "6xIa-ocMc1Ox",
        "outputId": "5ccfe366-3b66-4532-853b-a0b519356cee"
      },
      "source": [
        "from scipy import stats\n",
        "\n",
        "sample1 = [85, 86, 88, 75, 78, 94, 98, 79, 71, 80]\n",
        "sample2 = [91, 92, 93, 90, 97, 94, 82, 88, 95, 96]\n",
        "sample3 = [79, 78, 88, 94, 92, 85, 83, 85, 82, 81]\n",
        "\n",
        "#Perform One-way ANOVA\n",
        "F, p_value = stats.f_oneway(sample1, sample2, sample3)\n",
        "\n",
        "if p_value<0.05:\n",
        "  #mean values across each group are not equal.\n",
        "  print(\"reject\")\n",
        "else:\n",
        "  #mean values across each group are equal.\n",
        "  print(\"non reject\")"
      ],
      "execution_count": null,
      "outputs": [
        {
          "output_type": "stream",
          "text": [
            "reject\n"
          ],
          "name": "stdout"
        }
      ]
    },
    {
      "cell_type": "markdown",
      "metadata": {
        "id": "rAZNRMgGc6Bx"
      },
      "source": [
        "### **5.3. Tukey Pairwise Comparisons**"
      ]
    },
    {
      "cell_type": "code",
      "metadata": {
        "colab": {
          "base_uri": "https://localhost:8080/"
        },
        "id": "XqNlYz0cdLzv",
        "outputId": "86f8cd9c-ee1d-4ed8-ed40-d95a17777d8b"
      },
      "source": [
        "import pandas as pd\n",
        "import numpy as np\n",
        "from statsmodels.stats.multicomp import pairwise_tukeyhsd\n",
        "\n",
        "#Create DataFrame to Hold Data\n",
        "df = pd.DataFrame({'score': [85, 86, 88, 75, 78, 94, 98, 79, 71, 80,\n",
        "                             91, 92, 93, 90, 97, 94, 82, 88, 95, 96,\n",
        "                             79, 78, 88, 94, 92, 85, 83, 85, 82, 81],\n",
        "                   'group': np.repeat(['a', 'b', 'c'], repeats=10)}) \n",
        "\n",
        "#Perform Tukey's Test\n",
        "tukey = pairwise_tukeyhsd(endog=df['score'],\n",
        "                          groups=df['group'],\n",
        "                          alpha=0.05)\n",
        "\n",
        "#Display Results\n",
        "print(tukey)"
      ],
      "execution_count": null,
      "outputs": [
        {
          "output_type": "stream",
          "text": [
            " Multiple Comparison of Means - Tukey HSD, FWER=0.05 \n",
            "=====================================================\n",
            "group1 group2 meandiff p-adj   lower    upper  reject\n",
            "-----------------------------------------------------\n",
            "     a      b      8.4 0.0158   1.4272 15.3728   True\n",
            "     a      c      1.3 0.8864  -5.6728  8.2728  False\n",
            "     b      c     -7.1 0.0453 -14.0728 -0.1272   True\n",
            "-----------------------------------------------------\n"
          ],
          "name": "stdout"
        },
        {
          "output_type": "stream",
          "text": [
            "/usr/local/lib/python3.7/dist-packages/statsmodels/tools/_testing.py:19: FutureWarning: pandas.util.testing is deprecated. Use the functions in the public API at pandas.testing instead.\n",
            "  import pandas.util.testing as tm\n"
          ],
          "name": "stderr"
        }
      ]
    },
    {
      "cell_type": "markdown",
      "metadata": {
        "id": "Qmt5ptkWdQD4"
      },
      "source": [
        "Here’s how to interpret the output:\n",
        "\n",
        "P-value for the difference in means between a and b: .0158\n",
        "\n",
        "P-value for the difference in means between a and c: .8864\n",
        "\n",
        "P-value for the difference in means between b and c: .0453\n",
        "\n",
        "Thus, we would conclude that there is a statistically significant difference between the means of groups **a** and **b** and groups **b** and **c**, but not a statistically significant difference between the means of groups **a** and **c**."
      ]
    },
    {
      "cell_type": "markdown",
      "metadata": {
        "id": "NSsGVqMgXZBi"
      },
      "source": [
        "______\n",
        "## **6) Regression**"
      ]
    },
    {
      "cell_type": "markdown",
      "metadata": {
        "id": "LhGmGu3Jd-lE"
      },
      "source": [
        "[Linear Regression Foundations](https://online.stat.psu.edu/stat500/lesson/9)"
      ]
    },
    {
      "cell_type": "markdown",
      "metadata": {
        "id": "nL0yPk1BeHCw"
      },
      "source": [
        "### **6.1. Correlation**"
      ]
    },
    {
      "cell_type": "markdown",
      "metadata": {
        "id": "J7Opc8DVefFR"
      },
      "source": [
        "#### **6.1.1. Scatter Plot**"
      ]
    },
    {
      "cell_type": "code",
      "metadata": {
        "colab": {
          "base_uri": "https://localhost:8080/"
        },
        "id": "GcvwfuXEecKe",
        "outputId": "9419b711-3380-4cd4-cf8a-fdd10fef9d96"
      },
      "source": [
        "import matplotlib.pyplot as plt\n",
        "\n",
        "x = [0, 4, 6, 8, 12, 14, 16, 22, 26]\n",
        "y = [0, 2, 3, 4, 6, 7, 8, 11, 13]\n",
        "\n",
        "plt.scatter(x, y)\n",
        "plt.show()"
      ],
      "execution_count": null,
      "outputs": [
        {
          "output_type": "display_data",
          "data": {
            "image/png": "[encoded data removed]",
            "text/plain": [
              "<Figure size 432x288 with 1 Axes>"
            ]
          },
          "metadata": {
            "tags": [],
            "needs_background": "light"
          }
        }
      ]
    },
    {
      "cell_type": "markdown",
      "metadata": {
        "id": "T-e542nyewV2"
      },
      "source": [
        "#### **6.1.2. Correlation Coefficient**"
      ]
    },
    {
      "cell_type": "markdown",
      "metadata": {
        "id": "7TucZNOFfZ37"
      },
      "source": [
        "Using pandas module: "
      ]
    },
    {
      "cell_type": "code",
      "metadata": {
        "colab": {
          "base_uri": "https://localhost:8080/"
        },
        "id": "6exLx1_Jff1y",
        "outputId": "4201aa33-6904-4c0b-edd1-26764c20cd3c"
      },
      "source": [
        "import pandas as pd\n",
        "\n",
        "x = [3,4,3,5,6,5,4]\n",
        "y = [80,110,90,110,140,120,100]\n",
        "\n",
        "#Create DataFrame to Hold Data\n",
        "df = pd.DataFrame({'sample': [3,4,3,5,6,5,4,\n",
        "                             80,110,90,110,140,120,100],\n",
        "                   'group': np.repeat(['x', 'y'], repeats=7)}) \n",
        "\n",
        "# pearson's correlation coefficient\n",
        "r = df.corr(method='pearson') # or df.corr()\n",
        "\n",
        "print(r)"
      ],
      "execution_count": null,
      "outputs": [
        {
          "output_type": "stream",
          "text": [
            "        sample\n",
            "sample     1.0\n"
          ],
          "name": "stdout"
        }
      ]
    },
    {
      "cell_type": "markdown",
      "metadata": {
        "id": "TeluL2WdgjYp"
      },
      "source": [
        "Coding from scratch: \n",
        "\n",
        "Page 328, Sample Correlation Coefficient (Pearson’s r):\n",
        "\n",
        " \\begin{array}{l}\n",
        "r=\\frac{\\sum\\limits _{i=1}^{n}( x_{i} -\\overline{x})( y_{i} -\\overline{y})}{\\sqrt{\\sum\\limits _{i=1}^{n}( x_{i} -\\overline{x})^{2}}\\sqrt{\\sum\\limits _{i=1}^{n}( y_{i} -\\overline{y})^{2}}}\\\\\n",
        "\\\\\n",
        "Let\\ \\ S_{xy} =\\sum\\limits _{i=1}^{n}( x_{i} -\\overline{x})( y_{i} -\\overline{y}) ,\\ S_{xx} =S_{x}^{2} =\\sum\\limits _{i=1}^{n}( x_{i} -\\overline{x})^{2} ,\\ \\\\\n",
        "S_{yy} =S_{y}^{2} =\\sum\\limits _{i=1}^{n}( y_{i} -\\overline{y})^{2} \\ \\Longrightarrow r=\\ \\frac{S_{xy}}{S_{x} S_{y}}\n",
        "\\end{array}"
      ]
    },
    {
      "cell_type": "code",
      "metadata": {
        "colab": {
          "base_uri": "https://localhost:8080/"
        },
        "id": "dfJgrjpqg7Jk",
        "outputId": "b0a536ea-eaa9-4670-f787-55325c5cc0e0"
      },
      "source": [
        "import numpy as np\n",
        "\n",
        "x = [3,4,3,5,6,5,4]\n",
        "y = [80,110,90,110,140,120,100]\n",
        "\n",
        "n = len(x)\n",
        "\n",
        "xbar = np.mean(x)\n",
        "ybar = np.mean(y)\n",
        "Sxy = sum([(x[i]-xbar)*(y[i]-ybar) for i in range(n)])\n",
        "Sxx = sum([(x[i]-xbar)**2 for i in range(n)])\n",
        "Syy = sum([(y[i]-ybar)**2 for i in range(n)])\n",
        "Sx = np.sqrt(Sxx)\n",
        "Sy = np.sqrt(Syy)\n",
        "\n",
        "r = Sxy/(Sx*Sy)\n",
        "\n",
        "print(\"Sxy: {}\".format(Sxy))\n",
        "print(\"Sxx: {}\".format(Sxx))\n",
        "print(\"Syy: {}\".format(Syy))\n",
        "print(\"r: {}\".format(r))\n"
      ],
      "execution_count": null,
      "outputs": [
        {
          "output_type": "stream",
          "text": [
            "Sxy: 125.71428571428572\n",
            "Sxx: 7.428571428571429\n",
            "Syy: 2342.857142857143\n",
            "r: 0.952925780013262\n"
          ],
          "name": "stdout"
        }
      ]
    },
    {
      "cell_type": "code",
      "metadata": {
        "id": "WggNe1CEiE7J"
      },
      "source": [
        ""
      ],
      "execution_count": null,
      "outputs": []
    },
    {
      "cell_type": "markdown",
      "metadata": {
        "id": "BWR73rq0hSNN"
      },
      "source": [
        "#### **6.1.3. Hypothesis Testing for the Population Correlation**"
      ]
    },
    {
      "cell_type": "markdown",
      "metadata": {
        "id": "VUdx3GGTiEqn"
      },
      "source": [
        "$\\displaystyle \\rho =0\\ \\rightarrow \\ $$\\displaystyle X$ and $\\displaystyle Y\\ $are linearly independent, or $\\displaystyle X$ and $\\displaystyle Y$ have no linear relationship.\n",
        "\n",
        "$\\displaystyle \\rho \\neq 0\\ \\rightarrow $ $\\displaystyle X$ and $\\displaystyle Y$ are are linearly dependent."
      ]
    },
    {
      "cell_type": "code",
      "metadata": {
        "colab": {
          "base_uri": "https://localhost:8080/"
        },
        "id": "73IcbUMZiFs9",
        "outputId": "303e17ab-1e66-414e-9ebf-27e7ea8b6460"
      },
      "source": [
        "# Test (Page 330)\n",
        "\n",
        "from scipy import stats\n",
        "\n",
        "t = (r*np.sqrt(n-2))/(np.sqrt(1-r**2))\n",
        "alpha = 0.05\n",
        "df = n-2\n",
        "\n",
        "#H0: rho=0, H1: rho>0\n",
        "p_value = 1 - stats.t.pdf(t, df)\n",
        "print(\"p_value= {}\".format(p_value))\n",
        "if t>stats.t.ppf(1-alpha, df):\n",
        "  print(\"reject H0\")\n",
        "else:\n",
        "  print(\"non reject H0\")\n",
        "\n",
        "print(\"___________________________________\")\n",
        "\n",
        "#H0: rho=0, H1: rho<0\n",
        "p_value = stats.t.pdf(t, df)\n",
        "print(\"p_value= {}\".format(p_value))\n",
        "if t<-stats.t.ppf(1-alpha, df):\n",
        "  print(\"reject H0\")\n",
        "else:\n",
        "  print(\"non reject H0\")\n",
        "\n",
        "print(\"___________________________________\")\n",
        "\n",
        "#H0: rho=0, H1: rho=/0\n",
        "p_value = 1-2*stats.t.pdf(abs(t), df)\n",
        "print(\"p_value= {}\".format(p_value))\n",
        "if abs(t)>stats.t.ppf(1-alpha/2, df):\n",
        "  print(\"reject H0\")\n",
        "else:\n",
        "  print(\"non reject H0\")\n",
        "\n",
        "print(\"___________________________________\")"
      ],
      "execution_count": null,
      "outputs": [
        {
          "output_type": "stream",
          "text": [
            "p_value= 0.9997050553856509\n",
            "reject H0\n",
            "___________________________________\n",
            "p_value= 0.0002949446143491237\n",
            "non reject H0\n",
            "___________________________________\n",
            "p_value= 0.9994101107713017\n",
            "reject H0\n",
            "___________________________________\n"
          ],
          "name": "stdout"
        }
      ]
    },
    {
      "cell_type": "code",
      "metadata": {
        "colab": {
          "base_uri": "https://localhost:8080/"
        },
        "id": "qhxmHh1ZjwSq",
        "outputId": "c42e5c25-2b12-422b-ad2c-62525aee5692"
      },
      "source": [
        "#Known rho test for large n (Page 332)\n",
        "\n",
        "from scipy import stats\n",
        "import math \n",
        "\n",
        "rho0 = 0.7\n",
        "\n",
        "psi = (1/2)*np.log((1+r)/(1-r))\n",
        "#psiMean = (1/2)*np.log((1+rho)/(1-rho))\n",
        "#psiVar = 1/(n-3)\n",
        "\n",
        "psi0 = (1/2)*np.log((1+rho0)/(1-rho0))\n",
        "z = np.sqrt(n-3)*(psi-psi0)\n",
        "\n",
        "#H0: rho=rho0, H1: rho>rho0\n",
        "#H0: rho<=rho0, H1: rho>rho0\n",
        "#H0: rho=rho0, H1: rho<rho0\n",
        "p_value = 1 - stats.norm.pdf(z)\n",
        "print(\"p_value= {}\".format(p_value))\n",
        "if z>stats.norm.ppf(1-alpha):\n",
        "  print(\"reject H0\")\n",
        "else:\n",
        "  print(\"non reject H0\")\n",
        "\n",
        "print(\"___________________________________\")\n",
        "\n",
        "#H0: rho>=rho0, H1: rho<rho0\n",
        "p_value = stats.norm.pdf(z)\n",
        "print(\"p_value= {}\".format(p_value))\n",
        "if z<-stats.norm.ppf(1-alpha):\n",
        "  print(\"reject H0\")\n",
        "else:\n",
        "  print(\"non reject H0\")\n",
        "\n",
        "print(\"___________________________________\")\n",
        "\n",
        "#H0: rho=rho0, H1: rho=/rho0\n",
        "p_value = 1-2*stats.norm.pdf(abs(z))\n",
        "print(\"p_value= {}\".format(p_value))\n",
        "if abs(z)>stats.norm.ppf(1-alpha/2):\n",
        "  print(\"reject H0\")\n",
        "else:\n",
        "  print(\"non reject H0\")\n",
        "\n",
        "print(\"___________________________________\")\n",
        "\n",
        "#confidence interval for rho\n",
        "L = psi - stats.norm.ppf(1-alpha/2)*(1/np.sqrt(n-3))\n",
        "U = psi + stats.norm.ppf(1-alpha/2)*(1/np.sqrt(n-3))\n",
        "rhoInterval = ((math.exp(2*L)-1)/(math.exp(2*L)+1), (math.exp(2*U)-1)/(math.exp(2*U)+1))\n",
        "print(\"rho in:{}\".format(rhoInterval))"
      ],
      "execution_count": null,
      "outputs": [
        {
          "output_type": "stream",
          "text": [
            "p_value= 0.9450040635991656\n",
            "reject H0\n",
            "___________________________________\n",
            "p_value= 0.05499593640083442\n",
            "non reject H0\n",
            "___________________________________\n",
            "p_value= 0.8900081271983311\n",
            "reject H0\n",
            "___________________________________\n",
            "rho in:(0.7077679778765126, 0.9932321032548423)\n"
          ],
          "name": "stdout"
        }
      ]
    },
    {
      "cell_type": "markdown",
      "metadata": {
        "id": "QfDxwELmePQU"
      },
      "source": [
        "### **6.2. Linear Regression**"
      ]
    },
    {
      "cell_type": "markdown",
      "metadata": {
        "id": "vxp57nlOkX7m"
      },
      "source": [
        "#### **6.2.1. Best Fit Line and SSE**"
      ]
    },
    {
      "cell_type": "code",
      "metadata": {
        "colab": {
          "base_uri": "https://localhost:8080/"
        },
        "id": "GeZROW7ij50O",
        "outputId": "42252922-f75b-4b13-d03e-cfe1514a3b0e"
      },
      "source": [
        "import matplotlib.pyplot as plt\n",
        "import numpy as np\n",
        "\n",
        "x = np.array([3,4,3,5,6,5,4])\n",
        "y = np.array([80,110,90,110,140,120,100])\n",
        "\n",
        "bethaHat = Sxy/Sxx\n",
        "b = bethaHat\n",
        "alphaHat = np.mean(y)-b*np.mean(x)\n",
        "SSE = Syy - (bethaHat**2)*Sxx\n",
        "\n",
        "print(\"yHat = {} + {}x\".format(alphaHat, bethaHat))\n",
        "print(\"SSE = {}\".format(SSE))\n",
        "\n",
        "#predictor at x=10\n",
        "xPredict = 10\n",
        "print(\"y = {}\".format(alphaHat + xPredict*bethaHat))\n",
        "\n",
        "plt.scatter(x, y)\n",
        "plt.plot(x, bethaHat*x + alphaHat)\n",
        "\n",
        "#for limit on x and y\n",
        "#plt.xlim(-6, 6)\n",
        "#plt.ylim(-6, 6)\n",
        "\n",
        "plt.show()"
      ],
      "execution_count": null,
      "outputs": [
        {
          "output_type": "stream",
          "text": [
            "yHat = 34.61538461538461 + 16.923076923076923x\n",
            "SSE = 215.3846153846157\n",
            "y = 203.84615384615384\n"
          ],
          "name": "stdout"
        },
        {
          "output_type": "display_data",
          "data": {
            "image/png": "[encoded data removed]",
            "text/plain": [
              "<Figure size 432x288 with 1 Axes>"
            ]
          },
          "metadata": {
            "tags": [],
            "needs_background": "light"
          }
        }
      ]
    },
    {
      "cell_type": "markdown",
      "metadata": {
        "id": "-rw2LTdclG2D"
      },
      "source": [
        "#### **6.2.2. Hypothesis Testing for the Slope**"
      ]
    },
    {
      "cell_type": "code",
      "metadata": {
        "colab": {
          "base_uri": "https://localhost:8080/"
        },
        "id": "zQEZa8e8lfhp",
        "outputId": "c6d093af-c01d-42c4-f24a-0e4fc9ccc8a7"
      },
      "source": [
        "# Slope = 0 test\n",
        "\n",
        "df = n-2\n",
        "S = SSE/(df) #sigmaHat\n",
        "t = bethaHat/(S/np.sqrt(Sxx))\n",
        "\n",
        "#H0: beta=0, H1: beta>0\n",
        "p_value = 1 - stats.t.pdf(t, df)\n",
        "print(\"p_value= {}\".format(p_value))\n",
        "if t>stats.t.ppf(1-alpha, df):\n",
        "  print(\"reject H0\")\n",
        "else:\n",
        "  print(\"non reject H0\")\n",
        "print(\"___________________________________\")\n",
        "\n",
        "#H0: beta=0, H1: beta<0\n",
        "p_value = stats.t.pdf(t, df)\n",
        "print(\"p_value= {}\".format(p_value))\n",
        "if t<-stats.t.ppf(1-alpha, df):\n",
        "  print(\"reject H0\")\n",
        "else:\n",
        "  print(\"non reject H0\")\n",
        "print(\"___________________________________\")\n",
        "\n",
        "#H0: beta=0, H1: beta=/0\n",
        "p_value = 1-2*stats.t.pdf(abs(t), df)\n",
        "print(\"p_value= {}\".format(p_value))\n",
        "if abs(t)>stats.t.ppf(1-alpha/2, df):\n",
        "  print(\"reject H0\")\n",
        "else:\n",
        "  print(\"non reject H0\")"
      ],
      "execution_count": null,
      "outputs": [
        {
          "output_type": "stream",
          "text": [
            "p_value= 0.7956569348361421\n",
            "non reject H0\n",
            "___________________________________\n",
            "p_value= 0.20434306516385792\n",
            "non reject H0\n",
            "___________________________________\n",
            "p_value= 0.5913138696722842\n",
            "non reject H0\n"
          ],
          "name": "stdout"
        }
      ]
    },
    {
      "cell_type": "code",
      "metadata": {
        "colab": {
          "base_uri": "https://localhost:8080/"
        },
        "id": "f4xAj3TjlriY",
        "outputId": "da3c87e7-8e59-4bbe-cc64-ad3cd78c67bb"
      },
      "source": [
        "# Slope = beta0 test\n",
        "\n",
        "df = n-2\n",
        "beta0 = 0.3\n",
        "S = SSE/(df) #sigmaHat\n",
        "t = (bethaHat-beta0)/(S/np.sqrt(Sxx))\n",
        "\n",
        "#H0: beta=beta0, H1: beta>beta0\n",
        "p_value = 1 - stats.t.pdf(t, df)\n",
        "print(\"p_value= {}\".format(p_value))\n",
        "if t>stats.t.ppf(1-alpha, df):\n",
        "  print(\"reject H0\")\n",
        "else:\n",
        "  print(\"non reject H0\")\n",
        "print(\"___________________________________\")\n",
        "\n",
        "#H0: beta=beta0, H1: beta<beta0\n",
        "p_value = stats.t.pdf(t, df)\n",
        "print(\"p_value= {}\".format(p_value))\n",
        "if t<-stats.t.ppf(1-alpha, df):\n",
        "  print(\"reject H0\")\n",
        "else:\n",
        "  print(\"non reject H0\")\n",
        "print(\"___________________________________\")\n",
        "\n",
        "#H0: beta=beta0, H1: beta=/beta0\n",
        "p_value = 1-2*stats.t.pdf(abs(t), df)\n",
        "print(\"p_value= {}\".format(p_value))\n",
        "if abs(t)>stats.t.ppf(1-alpha/2, df):\n",
        "  print(\"reject H0\")\n",
        "else:\n",
        "  print(\"non reject H0\")\n",
        "print(\"___________________________________\")\n",
        "\n",
        "\n",
        "#confidence interval for beta ->  (Doesn't work properly! Try to fix it :) )\n",
        "#L = bethaHat - stats.t.ppf(1-alpha/2, df)*(S/np.sqrt(Sxx))\n",
        "#U = bethaHat + stats.t.ppf(1-alpha/2, df)*(S/np.sqrt(Sxx))\n",
        "#betaInterval = ((L, U))\n",
        "#print(\"beta in:{}\".format(betaInterval))"
      ],
      "execution_count": null,
      "outputs": [
        {
          "output_type": "stream",
          "text": [
            "p_value= 0.7915854629251441\n",
            "non reject H0\n",
            "___________________________________\n",
            "p_value= 0.20841453707485594\n",
            "non reject H0\n",
            "___________________________________\n",
            "p_value= 0.5831709258502882\n",
            "non reject H0\n",
            "___________________________________\n"
          ],
          "name": "stdout"
        }
      ]
    },
    {
      "cell_type": "markdown",
      "metadata": {
        "id": "eusFYptQm0Rl"
      },
      "source": [
        "#### **6.2.3. Hypothesis Testing for the Intercept**"
      ]
    },
    {
      "cell_type": "code",
      "metadata": {
        "colab": {
          "base_uri": "https://localhost:8080/"
        },
        "id": "Uja90MjVm6TF",
        "outputId": "e23dd077-6ca2-4bd5-9097-461da4cf7a24"
      },
      "source": [
        "# Intercept = 0 test\n",
        "df = n-2\n",
        "S = SSE/(df) #sigmaHat\n",
        "temp = S*np.sqrt((1/n)+((xbar**2)/Sxx))\n",
        "t = alphaHat/temp\n",
        "\n",
        "#H0: alpha=0, H1: alpha>0\n",
        "p_value = 1 - stats.t.pdf(t, df)\n",
        "print(\"p_value= {}\".format(p_value))\n",
        "if t>stats.t.ppf(1-alpha, df):\n",
        "  print(\"reject H0\")\n",
        "else:\n",
        "  print(\"non reject H0\")\n",
        "print(\"___________________________________\")\n",
        "\n",
        "\n",
        "#H0: alpha=0, H1: alpha<0\n",
        "p_value = stats.t.pdf(t, df)\n",
        "print(\"p_value= {}\".format(p_value))\n",
        "if t<-stats.t.ppf(1-alpha, df):\n",
        "  print(\"reject H0\")\n",
        "else:\n",
        "  print(\"non reject H0\")\n",
        "print(\"___________________________________\")\n",
        "\n",
        "#H0: alpha=0, H1: alpha=/0\n",
        "p_value = 1-2*stats.t.pdf(abs(t), df)\n",
        "print(\"p_value= {}\".format(p_value))\n",
        "if abs(t)>stats.t.ppf(1-alpha/2, df):\n",
        "  print(\"reject H0\")\n",
        "else:\n",
        "  print(\"non reject H0\")\n",
        "print(\"___________________________________\")\n",
        "\n",
        "#confidence interval for alpha \n",
        "L = alphaHat - stats.t.ppf(1-alpha/2, df)*temp\n",
        "U = alphaHat + stats.t.ppf(1-alpha/2, df)*temp\n",
        "alphaInterval = ((L, U))\n",
        "print(\"alpha in:{}\".format(alphaInterval))"
      ],
      "execution_count": null,
      "outputs": [
        {
          "output_type": "stream",
          "text": [
            "p_value= 0.671499077562759\n",
            "non reject H0\n",
            "___________________________________\n",
            "p_value= 0.32850092243724105\n",
            "non reject H0\n",
            "___________________________________\n",
            "p_value= 0.3429981551255179\n",
            "non reject H0\n",
            "___________________________________\n",
            "alpha in:(-144.46329831437848, 213.6940675451477)\n"
          ],
          "name": "stdout"
        }
      ]
    },
    {
      "cell_type": "code",
      "metadata": {
        "colab": {
          "base_uri": "https://localhost:8080/"
        },
        "id": "JtzZ3HxSnBAn",
        "outputId": "5856935e-2e8f-43e0-9189-6cbfe61c50ad"
      },
      "source": [
        "# Intercept = alpha0 test\n",
        "\n",
        "alpha0 = 0.3\n",
        "df = n-2\n",
        "S = SSE/(df) #sigmaHat\n",
        "temp = S*np.sqrt((1/n)+((xbar**2)/Sxx))\n",
        "t = (alphaHat-alpha0)/temp\n",
        "\n",
        "#H0: alpha=alpha0, H1: alpha>alpha0\n",
        "p_value = 1 - stats.t.pdf(t, df)\n",
        "print(\"p_value= {}\".format(p_value))\n",
        "if t>stats.t.ppf(1-alpha, df):\n",
        "  print(\"reject H0\")\n",
        "else:\n",
        "  print(\"non reject H0\")\n",
        "print(\"___________________________________\")\n",
        "\n",
        "#H0: alpha=alpha0, H1: alpha<alpha0\n",
        "p_value = stats.t.pdf(t, df)\n",
        "print(\"p_value= {}\".format(p_value))\n",
        "if t<-stats.t.ppf(1-alpha, df):\n",
        "  print(\"reject H0\")\n",
        "else:\n",
        "  print(\"non reject H0\")\n",
        "print(\"___________________________________\")\n",
        "\n",
        "#H0: alpha=alpha0, H1: alpha=/alpha0\n",
        "p_value = 1-2*stats.t.pdf(abs(t), df)\n",
        "print(\"p_value= {}\".format(p_value))\n",
        "if abs(t)>stats.t.ppf(1-alpha/2, df):\n",
        "  print(\"reject H0\")\n",
        "else:\n",
        "  print(\"non reject H0\")\n",
        "print(\"___________________________________\")\n",
        "\n",
        "#confidence interval for alpha \n",
        "L = alphaHat - stats.t.ppf(1-alpha/2, df)*temp\n",
        "U = alphaHat + stats.t.ppf(1-alpha/2, df)*temp\n",
        "alphaInterval = ((L, U))\n",
        "print(\"alpha in:{}\".format(alphaInterval))"
      ],
      "execution_count": null,
      "outputs": [
        {
          "output_type": "stream",
          "text": [
            "p_value= 0.6706974536806956\n",
            "non reject H0\n",
            "___________________________________\n",
            "p_value= 0.3293025463193044\n",
            "non reject H0\n",
            "___________________________________\n",
            "p_value= 0.3413949073613912\n",
            "non reject H0\n",
            "___________________________________\n",
            "alpha in:(-144.46329831437848, 213.6940675451477)\n"
          ],
          "name": "stdout"
        }
      ]
    },
    {
      "cell_type": "markdown",
      "metadata": {
        "id": "m_hzgoBonInj"
      },
      "source": [
        "#### **6.2.4. ANOVA Table for Linear Regression**"
      ]
    },
    {
      "cell_type": "code",
      "metadata": {
        "colab": {
          "base_uri": "https://localhost:8080/"
        },
        "id": "SyhwTDyTnVA4",
        "outputId": "c2120b69-bcac-4650-e5e1-8f1111223889"
      },
      "source": [
        "yHatEstimate = [bethaHat*x[i] + alphaHat for i in range(n)]\n",
        "SSR = sum([(yHatEstimate[i]-ybar)**2 for i in range(n)])\n",
        "SSE = sum([(y[i]-yHatEstimate[i])**2 for i in range(n)])\n",
        "MSR = SSR/1\n",
        "MSE = SSE/(n-2)\n",
        "F = MSR/MSE\n",
        "\n",
        "print(\"Source of Variation - DF - SS - MS - F\")\n",
        "print(\"ــــــــــــــــــــــــــــــــــــــــــــــــــ\")\n",
        "print(\"Regression           \", 1, SSR, MSR, F)\n",
        "print(\"Residual error       \", n-2, SSE, MSE)\n",
        "print(\"ــــــــــــــــــــــــــــــــــــــــــــــــــ\")\n",
        "print(\"Total                \", n-1, Syy)"
      ],
      "execution_count": null,
      "outputs": [
        {
          "output_type": "stream",
          "text": [
            "Source of Variation - DF - SS - MS - F\n",
            "ــــــــــــــــــــــــــــــــــــــــــــــــــ\n",
            "Regression            1 2127.4725274725274 2127.4725274725274 49.38775510204084\n",
            "Residual error        5 215.38461538461527 43.07692307692305\n",
            "ــــــــــــــــــــــــــــــــــــــــــــــــــ\n",
            "Total                 6 2342.857142857143\n"
          ],
          "name": "stdout"
        }
      ]
    },
    {
      "cell_type": "markdown",
      "metadata": {
        "id": "dgzGE1L2eWu7"
      },
      "source": [
        "### **6.3. Other Regression Models**"
      ]
    },
    {
      "cell_type": "markdown",
      "metadata": {
        "id": "2W-Jbzm4ofpB"
      },
      "source": [
        "For others regression models and the data preprocessing you need to perform before each one check out [this](https://colab.research.google.com/drive/1yHmt06ZM54h1oL8lUr6Vf0aG0XXeHaNz?usp=sharing) data analysis notebook."
      ]
    },
    {
      "cell_type": "markdown",
      "metadata": {
        "id": "nJ5dbI_xXZyF"
      },
      "source": [
        "______\n",
        "## **7) Chisq test**"
      ]
    },
    {
      "cell_type": "markdown",
      "metadata": {
        "id": "pAuhGHXqphTB"
      },
      "source": [
        "[Chi-Square Test for Independence](https://online.stat.psu.edu/stat500/lesson/8)"
      ]
    },
    {
      "cell_type": "markdown",
      "metadata": {
        "id": "QJlj47qlp1ee"
      },
      "source": [
        "#### **7.1. Chi-Square Goodness of Fit Test**"
      ]
    },
    {
      "cell_type": "code",
      "metadata": {
        "colab": {
          "base_uri": "https://localhost:8080/"
        },
        "id": "ySomawCTqVuC",
        "outputId": "7b76bd0f-025a-4572-a5fe-62478f9e25fe"
      },
      "source": [
        "import numpy as np\n",
        "import scipy.stats as stats\n",
        "\n",
        "expected = [50, 50, 50, 50, 50]\n",
        "observed = [50, 60, 40, 47, 53]\n",
        "\n",
        "#chisquare(f_obs, f_exp) \n",
        "\n",
        "#perform Chi-Square Goodness of Fit Test\n",
        "stats.chisquare(f_obs=observed, f_exp=expected)"
      ],
      "execution_count": null,
      "outputs": [
        {
          "output_type": "execute_result",
          "data": {
            "text/plain": [
              "Power_divergenceResult(statistic=4.359999999999999, pvalue=0.3594720674366307)"
            ]
          },
          "metadata": {
            "tags": []
          },
          "execution_count": 37
        }
      ]
    },
    {
      "cell_type": "markdown",
      "metadata": {
        "id": "hj78TzPTqauI"
      },
      "source": [
        "##### Page 355, Example 11.1"
      ]
    },
    {
      "cell_type": "code",
      "metadata": {
        "colab": {
          "base_uri": "https://localhost:8080/"
        },
        "id": "lNHcAJd5qnX-",
        "outputId": "9800e72d-71c4-4c12-abd7-6616edd3d56b"
      },
      "source": [
        "import numpy as np\n",
        "import scipy.stats as stats\n",
        "from tabulate import tabulate\n",
        "\n",
        "# n: number of trials\n",
        "n = 120\n",
        "# r: number of levels\n",
        "r = 6\n",
        "df = r-1\n",
        "alpha = 0.05\n",
        "#probability\n",
        "p = [1/6, 1/6, 1/6, 1/6, 1/6, 1/6]\n",
        "#observation \n",
        "o = [25, 17, 15, 23, 24, 16]\n",
        "#expectation\n",
        "e = [n*p[i] for i in range(r)]\n",
        "\n",
        "#printing the observation/expectation table\n",
        "oetable = np.array([o, e])\n",
        "headers = [\"A{}\".format(i+1) for i in range(r)]\n",
        "index = ['oi', 'ei']\n",
        "# tabulate data\n",
        "table = tabulate(oetable, headers, tablefmt=\"fancy_grid\", showindex = index)\n",
        "# output\n",
        "print(table)\n",
        "\n",
        "v = sum([((o[i]-e[i])**2)/e[i] for i in range(r)])\n",
        "print(v)\n",
        "\n",
        "#H0: pi[i] = p[i], H1: otherwise\n",
        "p_value = 1-stats.chi2.pdf(v, df)\n",
        "print(\"p_value= {}\".format(p_value))\n",
        "if v>stats.chi2.ppf(1-alpha, df):\n",
        "  print(\"reject H0\")\n",
        "else:\n",
        "  print(\"non reject H0\")"
      ],
      "execution_count": null,
      "outputs": [
        {
          "output_type": "stream",
          "text": [
            "╒════╤══════╤══════╤══════╤══════╤══════╤══════╕\n",
            "│    │   A1 │   A2 │   A3 │   A4 │   A5 │   A6 │\n",
            "╞════╪══════╪══════╪══════╪══════╪══════╪══════╡\n",
            "│ oi │   25 │   17 │   15 │   23 │   24 │   16 │\n",
            "├────┼──────┼──────┼──────┼──────┼──────┼──────┤\n",
            "│ ei │   20 │   20 │   20 │   20 │   20 │   20 │\n",
            "╘════╧══════╧══════╧══════╧══════╧══════╧══════╛\n",
            "5.0\n",
            "p_value= 0.8779584786506126\n",
            "non reject H0\n"
          ],
          "name": "stdout"
        }
      ]
    },
    {
      "cell_type": "markdown",
      "metadata": {
        "id": "-e8oP8wXqseo"
      },
      "source": [
        "##### Page 355, Example 11.2"
      ]
    },
    {
      "cell_type": "code",
      "metadata": {
        "colab": {
          "base_uri": "https://localhost:8080/"
        },
        "id": "CAqnwN1FrTZ4",
        "outputId": "30d80cb3-d25e-4f1a-ea0a-9c6712783468"
      },
      "source": [
        "import numpy as np\n",
        "import scipy.stats as stats\n",
        "from tabulate import tabulate\n",
        "\n",
        "# n: number of trials\n",
        "n = 320\n",
        "# r: number of levels\n",
        "r = 6\n",
        "df = r-1\n",
        "alpha = 0.05\n",
        "#probability distribution \n",
        "p = [stats.binom.pmf(i, 5, 1/2) for i in range(r)]\n",
        "#observation \n",
        "o = [8, 40, 88, 110, 56, 18]\n",
        "#expectation\n",
        "e = [n*p[i] for i in range(r)]\n",
        "\n",
        "#printing the observation/expectation table\n",
        "oetable = np.array([o, e])\n",
        "headers = [\"A{}\".format(i+1) for i in range(r)]\n",
        "index = ['oi', 'ei']\n",
        "# tabulate data\n",
        "table = tabulate(oetable, headers, tablefmt=\"fancy_grid\", showindex = index)\n",
        "# output\n",
        "print(table)\n",
        "\n",
        "v = sum([((o[i]-e[i])**2)/e[i] for i in range(r)])\n",
        "print(v)\n",
        "\n",
        "#H0: pi[i] = p[i], H1: otherwise\n",
        "p_value = 1-stats.chi2.pdf(v, df)\n",
        "print(\"p_value= {}\".format(p_value))\n",
        "if v>stats.chi2.ppf(1-alpha, df):\n",
        "  print(\"reject H0\")\n",
        "else:\n",
        "  print(\"non reject H0\")"
      ],
      "execution_count": null,
      "outputs": [
        {
          "output_type": "stream",
          "text": [
            "╒════╤══════╤══════╤══════╤══════╤══════╤══════╕\n",
            "│    │   A1 │   A2 │   A3 │   A4 │   A5 │   A6 │\n",
            "╞════╪══════╪══════╪══════╪══════╪══════╪══════╡\n",
            "│ oi │    8 │   40 │   88 │  110 │   56 │   18 │\n",
            "├────┼──────┼──────┼──────┼──────┼──────┼──────┤\n",
            "│ ei │   10 │   50 │  100 │  100 │   50 │   10 │\n",
            "╘════╧══════╧══════╧══════╧══════╧══════╧══════╛\n",
            "11.959999999999997\n",
            "p_value= 0.9860907222724954\n",
            "reject H0\n"
          ],
          "name": "stdout"
        }
      ]
    },
    {
      "cell_type": "markdown",
      "metadata": {
        "id": "NtRSsNIwqvrG"
      },
      "source": [
        "##### Page 359, Example 11.5\n",
        "When the probability of levels are different -> Use frequency + MLE "
      ]
    },
    {
      "cell_type": "code",
      "metadata": {
        "colab": {
          "base_uri": "https://localhost:8080/"
        },
        "id": "Pvo0mpHnrYsA",
        "outputId": "35e28949-e06e-4a88-f1b6-18faf430e941"
      },
      "source": [
        "import numpy as np\n",
        "import scipy.stats as stats\n",
        "from tabulate import tabulate\n",
        "\n",
        "# n: number of trials\n",
        "n = 100\n",
        "# r: number of levels\n",
        "r = 5\n",
        "# k: number of unknown parameters\n",
        "k = 1\n",
        "df = r-1-k\n",
        "alpha = 0.05\n",
        "\n",
        "#frequency \n",
        "f = [0, 1, 2, 3, 4]\n",
        "#observation\n",
        "o = [39, 32, 19, 10, 0]\n",
        "\n",
        "#MLE poisson = mean\n",
        "mu = sum([o[i]*f[i] for i in range(r)])/n\n",
        "\n",
        "# Check and merge elements<5 \n",
        "for i in range(r):\n",
        "  if o[i]<=5:\n",
        "    if i==0:\n",
        "      o[i+1]+=o[i]\n",
        "    else:\n",
        "      o[i-1]+=o[i]\n",
        "    del o[i]\n",
        "    del f[i]\n",
        "\n",
        "#probability distribution \n",
        "p = [stats.poisson.pmf(i, mu) for i in range(r-2)]\n",
        "p.append(1-sum(p)) #cause P(X>=3)\n",
        "#expectation\n",
        "eHat = [n*p[i] for i in range(len(f))]\n",
        "\n",
        "#printing the observation/expectation table\n",
        "oetable = np.array([f, eHat])\n",
        "headers = [ i+1 for i in range(len(f))]\n",
        "index = ['oi', 'ei']\n",
        "# tabulate data\n",
        "table = tabulate(oetable, headers, tablefmt=\"fancy_grid\", showindex = index)\n",
        "# output\n",
        "print(table)\n",
        "\n",
        "vStar = sum([((o[i]-eHat[i])**2)/eHat[i] for i in range(len(eHat))])\n",
        "print(vStar)\n",
        "\n",
        "#H0: pi[i] = p[i], H1: otherwise\n",
        "p_value = 1-stats.chi2.pdf(vStar, df)\n",
        "print(\"p_value= {}\".format(p_value))\n",
        "if vStar>stats.chi2.ppf(1-alpha, df):\n",
        "  print(\"reject H0\")\n",
        "else:\n",
        "  print(\"non reject H0\")"
      ],
      "execution_count": null,
      "outputs": [
        {
          "output_type": "stream",
          "text": [
            "╒════╤═════════╤═════════╤════════╤═════════╕\n",
            "│    │       1 │       2 │      3 │       4 │\n",
            "╞════╪═════════╪═════════╪════════╪═════════╡\n",
            "│ oi │  0      │  1      │  2     │ 3       │\n",
            "├────┼─────────┼─────────┼────────┼─────────┤\n",
            "│ ei │ 36.7879 │ 36.7879 │ 18.394 │ 8.03014 │\n",
            "╘════╧═════════╧═════════╧════════╧═════════╛\n",
            "1.2593507996838227\n",
            "p_value= 0.7614832542018524\n",
            "non reject H0\n"
          ],
          "name": "stdout"
        }
      ]
    },
    {
      "cell_type": "markdown",
      "metadata": {
        "id": "i-4d4nb5rxiz"
      },
      "source": [
        "#### **7.2. Two-Way Tables and The Chi-Square Test**"
      ]
    },
    {
      "cell_type": "markdown",
      "metadata": {
        "id": "SxN6Faa-r5_A"
      },
      "source": [
        "##### Page 356, example 11.7"
      ]
    },
    {
      "cell_type": "code",
      "metadata": {
        "colab": {
          "base_uri": "https://localhost:8080/"
        },
        "id": "PGSKUjkAr4KY",
        "outputId": "ea789755-0454-4b96-9505-93d678ba3184"
      },
      "source": [
        "import numpy as np\n",
        "import scipy.stats as stats\n",
        "\n",
        "alpha = 0.05\n",
        "o = [[10, 24, 13],\n",
        "     [8, 20, 15]]\n",
        "rows, cols = len(o), len(o[0])\n",
        "df = (rows-1) * (cols-1)\n",
        "#observation\n",
        "\n",
        "vStarStar, p_value, dof, expected = stats.chi2_contingency(o)\n",
        "\n",
        "if abs(vStarStar) >= stats.chi2.ppf(1-alpha, df):\n",
        "\tprint('Dependent (reject H0)')\n",
        "else:\n",
        "\tprint('Independent (fail to reject H0)')\n",
        "\n",
        "print(p_value)\n",
        "print(vStarStar)"
      ],
      "execution_count": null,
      "outputs": [
        {
          "output_type": "stream",
          "text": [
            "Independent (fail to reject H0)\n",
            "0.7588021642828691\n",
            "0.5520283773623701\n"
          ],
          "name": "stdout"
        }
      ]
    },
    {
      "cell_type": "markdown",
      "metadata": {
        "id": "tEgzlDa8XaE0"
      },
      "source": [
        "______\n",
        "## **8) Non-parametric Tests**"
      ]
    },
    {
      "cell_type": "markdown",
      "metadata": {
        "id": "OaWMgMyzpn9n"
      },
      "source": [
        "[Introduction to Nonparametric Tests and Bootstrap\n",
        "](https://online.stat.psu.edu/stat500/lesson/11)"
      ]
    },
    {
      "cell_type": "markdown",
      "metadata": {
        "id": "Crt9Lj-GsaHX"
      },
      "source": [
        "1.   [Sign Test](https://www.statsmodels.org/stable/generated/statsmodels.stats.descriptivestats.sign_test.html)\n",
        "2.   [Wilcoxon Test](https://docs.scipy.org/doc/scipy/reference/generated/scipy.stats.wilcoxon.html)\n",
        "3.   [Wilcoxon Rank-Sum Test](https://docs.scipy.org/doc/scipy/reference/generated/scipy.stats.ranksums.html)\n",
        "4.   [Kruskal-Wallis Test](https://docs.scipy.org/doc/scipy/reference/generated/scipy.stats.kruskal.html)\n",
        "5.   [Rank Correlation Test](https://docs.scipy.org/doc/scipy/reference/generated/scipy.stats.spearmanr.html)"
      ]
    },
    {
      "cell_type": "markdown",
      "metadata": {
        "id": "NASWNmays8G0"
      },
      "source": [
        "#### **8.1. Sign Test for Paired Sample**"
      ]
    },
    {
      "cell_type": "markdown",
      "metadata": {
        "id": "b2qxwo0Gs-qI"
      },
      "source": [
        "Sign Test for categorical sample (set one category as posN and the other as negN) \n",
        "\n",
        "Sign Test for median (set diff = sample - median) "
      ]
    },
    {
      "cell_type": "code",
      "metadata": {
        "colab": {
          "base_uri": "https://localhost:8080/"
        },
        "id": "UcwRF_4stDnb",
        "outputId": "e42fa3a5-44cd-4d72-aeb5-7e0e42cc9e44"
      },
      "source": [
        "import scipy.stats as stats\n",
        "from math import sqrt\n",
        "\n",
        "before = [14.6, 17.3, 10.9, 12.8, 16.6, 12.2, 11.2, 15.4, 14.8, 16.2]\n",
        "after = [13.8, 15.4, 11.3, 11.6, 16.4, 12.6, 11.8, 15.0, 14.4, 15]\n",
        "alpha = 0.05\n",
        "diff = [before[i]-after[i] for i in range(len(before)) if before[i]-after[i]!=0]\n",
        "posN, negN = 0, 0\n",
        "for sign in diff:\n",
        "  if sign>0:\n",
        "    posN+=1\n",
        "  else:\n",
        "    negN+=1\n",
        "\n",
        "#posN, negN = 30, 70\n",
        "t = min(posN, negN)\n",
        "n = posN+negN\n",
        "print(t, n)\n",
        "\n",
        "tableNum = 1\n",
        "if n<=25:\n",
        "  if t<=tableNum:\n",
        "    print(\"reject H0\")\n",
        "  else:\n",
        "    print(\"non reject H0\")\n",
        "\n",
        "else:\n",
        "  z = ((t+0.5)-(n/2))/(sqrt(n)/2)\n",
        "  print(z)\n",
        "  # do as standard normal distribution says\n",
        "\n",
        "  #H0: rho=0, H1: rho>0\n",
        "  if z>stats.norm.ppf(1-alpha):\n",
        "    print(\"reject H0\")\n",
        "  else:\n",
        "    print(\"non reject H0\")\n",
        "\n",
        "  #H0: rho=0, H1: rho<0\n",
        "  if z<-stats.norm.ppf(1-alpha):\n",
        "    print(\"reject H0\")\n",
        "  else:\n",
        "    print(\"non reject H0\")\n",
        "\n",
        "  #H0: rho=0, H1: rho=/0\n",
        "  if abs(z)>stats.norm.ppf(1-alpha/2):\n",
        "    print(\"reject H0\")\n",
        "  else:\n",
        "    print(\"non reject H0\")"
      ],
      "execution_count": null,
      "outputs": [
        {
          "output_type": "stream",
          "text": [
            "3 10\n",
            "non reject H0\n"
          ],
          "name": "stdout"
        }
      ]
    },
    {
      "cell_type": "markdown",
      "metadata": {
        "id": "xR2HAQlmtJzj"
      },
      "source": [
        "#### **8.2. Wilcoxon Test for Paired Sample**"
      ]
    },
    {
      "cell_type": "markdown",
      "metadata": {
        "id": "twk39zMztMkr"
      },
      "source": [
        "Wilcoxon Test for median (set diff = sample - median) "
      ]
    },
    {
      "cell_type": "code",
      "metadata": {
        "colab": {
          "base_uri": "https://localhost:8080/"
        },
        "id": "PfEpD0BUtR59",
        "outputId": "5d551e57-eb42-4a38-facc-64f9d5c70fe1"
      },
      "source": [
        "import scipy.stats as stats\n",
        "alpha = 0.05\n",
        "before = [14.6, 17.3, 10.9, 12.8, 16.6, 12.2, 11.2, 15.4, 14.8, 16.2]\n",
        "after = [13.8, 15.4, 11.3, 11.6, 16.4, 12.6, 11.8, 15.0, 14.4, 15]\n",
        "\n",
        "statistic, p_value = stats.wilcoxon(before, after)\n",
        "print(statistic, p_value)\n",
        "\n",
        "tableNum = 14 #for n<=30, for n>30 page 376\n",
        "if t<=tableNum:\n",
        "  print(\"reject H0\")\n",
        "else:\n",
        "  print(\"non reject H0\")\n",
        "\n",
        "if p_value>alpha:\n",
        "    print(\"reject H0\")\n",
        "else:\n",
        "    print(\"non reject H0\")"
      ],
      "execution_count": null,
      "outputs": [
        {
          "output_type": "stream",
          "text": [
            "13.0 0.16015625\n",
            "reject H0\n",
            "reject H0\n"
          ],
          "name": "stdout"
        }
      ]
    },
    {
      "cell_type": "markdown",
      "metadata": {
        "id": "jO5YyYVbter5"
      },
      "source": [
        "#### **8.3. Wilcoxon Rank-Sum Test**"
      ]
    },
    {
      "cell_type": "code",
      "metadata": {
        "colab": {
          "base_uri": "https://localhost:8080/"
        },
        "id": "ezd7egkEtjDB",
        "outputId": "856c324c-e157-4401-af68-5b097dd12c10"
      },
      "source": [
        "import scipy.stats as stats\n",
        "\n",
        "before = [10.7, 10.7, 10.4, 10.5, 10.3, 9.6, 11.1, 11.2, 10.4]\n",
        "after = [9.6, 10.4, 9.7, 10.3, 9.2, 9.3, 9.9, 9.5, 9.0, 10.9]\n",
        "\n",
        "#alternative=‘two-sided’ or ‘less’ or ‘greater’\n",
        "statistic, p_value = stats.ranksums(before, after)\n",
        "print(statistic, p_value)\n",
        "alpha = 0.05\n",
        "\n",
        "z = statistic\n",
        "\n",
        "#H0: rho=0, H1: rho>0\n",
        "if z>stats.norm.ppf(1-alpha):\n",
        "  print(\"reject H0\")\n",
        "else:\n",
        "  print(\"non reject H0\")\n",
        "\n",
        "#H0: rho=0, H1: rho<0\n",
        "if z<-stats.norm.ppf(1-alpha):\n",
        "  print(\"reject H0\")\n",
        "else:\n",
        "  print(\"non reject H0\")\n",
        "\n",
        "#H0: rho=0, H1: rho=/0\n",
        "if abs(z)>stats.norm.ppf(1-alpha/2):\n",
        "  print(\"reject H0\")\n",
        "else:\n",
        "  print(\"non reject H0\")\n",
        "\n",
        "if p_value<alpha:\n",
        "    print(\"reject H0\")\n",
        "else:\n",
        "    print(\"non reject H0\")"
      ],
      "execution_count": null,
      "outputs": [
        {
          "output_type": "stream",
          "text": [
            "2.5311394008759507 0.011369265340726933\n",
            "reject H0\n",
            "non reject H0\n",
            "reject H0\n",
            "reject H0\n"
          ],
          "name": "stdout"
        }
      ]
    },
    {
      "cell_type": "markdown",
      "metadata": {
        "id": "kWTpSH4btlwl"
      },
      "source": [
        "#### **8.4. Kruskal-Wallis Test**"
      ]
    },
    {
      "cell_type": "code",
      "metadata": {
        "colab": {
          "base_uri": "https://localhost:8080/"
        },
        "id": "Ix820mn8toyR",
        "outputId": "42566419-8057-4a2c-f474-837fe00d2d9c"
      },
      "source": [
        "import scipy.stats as stats\n",
        "\n",
        "Sample1 = [50, 45, 31, 37, 39, 52, 56, 60, 62, 48]\n",
        "Sample2 = [47, 35, 36, 50, 59, 66, 61, 48, 60, 38]\n",
        "Sample3 = [62, 44, 39, 60, 55, 59, 62, 57, 54, 58]\n",
        "alpha = 0.05\n",
        "# k: number of samples \n",
        "k = 3\n",
        "statistic, p_value = stats.kruskal(Sample1, Sample2, Sample3)\n",
        "print(statistic, p_value)\n",
        "\n",
        "if statistic>stats.chi2.ppf(1-alpha, k-1):\n",
        "\tprint('Dependent (reject H0)')\n",
        "else:\n",
        "\tprint('Independent (fail to reject H0)')\n",
        "\n",
        "if p_value<alpha:\n",
        "    print(\"reject H0\")\n",
        "else:\n",
        "    print(\"non reject H0\")"
      ],
      "execution_count": null,
      "outputs": [
        {
          "output_type": "stream",
          "text": [
            "2.2789872853000155 0.3199810055360302\n",
            "Independent (fail to reject H0)\n",
            "non reject H0\n"
          ],
          "name": "stdout"
        }
      ]
    },
    {
      "cell_type": "markdown",
      "metadata": {
        "id": "Rw4qiQevttYR"
      },
      "source": [
        "#### **8.5. Rank Correlation Test - Spearman Correlation Test**"
      ]
    },
    {
      "cell_type": "markdown",
      "metadata": {
        "id": "RJNu3Ch1t0a1"
      },
      "source": [
        "A correlation not necessarily linear"
      ]
    },
    {
      "cell_type": "code",
      "metadata": {
        "colab": {
          "base_uri": "https://localhost:8080/"
        },
        "id": "ZCazV2a9t2SR",
        "outputId": "6e5f1eb1-724f-4236-db15-f827314eafe6"
      },
      "source": [
        "import scipy.stats as stats\n",
        "from math import sqrt\n",
        "\n",
        "Sample1 = [2, 7, 6, 4, 5, 8, 9, 10, 3, 1]\n",
        "Sample2 = [5, 2, 3, 8, 10, 9, 1, 7, 6, 4]\n",
        "alpha = 0.05\n",
        "n = len(Sample1)\n",
        "diff = [Sample1[i]-Sample2[i] for i in range(n)]\n",
        "rs = 1-((6*sum([d**2 for d in diff]))/(n*(n**2-1)))\n",
        "print(rs)\n",
        "\n",
        "#alternative=‘two-sided’ or ‘less’ or ‘greater’\n",
        "statistic, p_value = stats.spearmanr(Sample1, Sample2)\n",
        "print(statistic, p_value)\n",
        "\n",
        "# n<=30 table A-10\n",
        "\n",
        "# n>30\n",
        "if abs(statistic)>(stats.norm.ppf(1-alpha/2))/(sqrt(n-1)):\n",
        "\tprint('Dependent (reject H0)')\n",
        "else:\n",
        "\tprint('Independent (fail to reject H0)')\n",
        "\n",
        "if p_value<alpha:\n",
        "    print(\"reject H0\")\n",
        "else:\n",
        "    print(\"non reject H0\")"
      ],
      "execution_count": null,
      "outputs": [
        {
          "output_type": "stream",
          "text": [
            "-0.06666666666666665\n",
            "-0.06666666666666665 0.8548130882487426\n",
            "Independent (fail to reject H0)\n",
            "non reject H0\n"
          ],
          "name": "stdout"
        }
      ]
    }
  ]
}